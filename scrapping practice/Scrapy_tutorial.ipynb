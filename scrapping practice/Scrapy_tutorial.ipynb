{
 "cells": [
  {
   "cell_type": "markdown",
   "id": "0f396be5-5e05-4505-8c56-42be7a5023ff",
   "metadata": {},
   "source": [
    "#CSS Selectors"
   ]
  },
  {
   "cell_type": "code",
   "execution_count": null,
   "id": "abd6c1c8-ae23-4ef1-a2fc-8544b80346d3",
   "metadata": {},
   "outputs": [],
   "source": [
    "import scrapy\n",
    "\n",
    "\n",
    "class QuoteSpider(scrapy.Spider):\n",
    "    name = \"Quote\"\n",
    "    allowed_domains = [\"quotes.toscrape.com\"]\n",
    "    start_urls = [\"https://quotes.toscrape.com/\"]\n",
    " \n",
    "\n",
    "\n",
    "    def parse(self, response):\n",
    "        for quote in response.css(\"div.quote\"):     #div.quote (.quote is a class name)\n",
    "            one,two = quote.css(\"span\")\n",
    "            \n",
    "            author = two.css(\"small::text\").get()\n",
    "\n",
    "            if author==\"Albert Einstein\":\n",
    "                yield{\n",
    "                    \"quote\": one.css(\"::text\").get()\n",
    "                }\n",
    "                   "
   ]
  },
  {
   "cell_type": "markdown",
   "id": "90ab5edc-6a98-47a0-80a2-54b1ad96aad0",
   "metadata": {},
   "source": [
    "#Xpath"
   ]
  },
  {
   "cell_type": "code",
   "execution_count": null,
   "id": "9d73a6ea-ef0f-4a40-b735-0b979169dd92",
   "metadata": {},
   "outputs": [],
   "source": [
    "import scrapy\n",
    "\n",
    "\n",
    "class QuoteSpider(scrapy.Spider):\n",
    "    name = \"Quote\"\n",
    "    allowed_domains = [\"quotes.toscrape.com\"]\n",
    "    start_urls = [\"https://quotes.toscrape.com/\"]\n",
    " \n",
    "\n",
    "\n",
    "    def parse(self, response):\n",
    "        quotes = response.xpath(\"//div[@class = 'quote']/span[2]/small[text()='Albert Einstein']/../../span[@class ='text']/text()\").getall()\n",
    "        \n",
    "        for quote in quotes:\n",
    "            yield{\n",
    "                \"quote\":quote\n",
    "            }"
   ]
  },
  {
   "cell_type": "markdown",
   "id": "7682db99-802d-4531-bd81-f4e5635f393d",
   "metadata": {},
   "source": [
    "#Automated Link Following"
   ]
  },
  {
   "cell_type": "code",
   "execution_count": null,
   "id": "cdbf95b2-9f96-4e81-b43e-21d8d61b3c42",
   "metadata": {},
   "outputs": [],
   "source": [
    "import scrapy\n",
    "from scrapy.spiders import Rule, CrawlSpider\n",
    "from scrapy.linkextractors import LinkExtractor\n",
    "\n",
    "\n",
    "class QuoteSpider(CrawlSpider):\n",
    "    name = \"Quote\"\n",
    "    allowed_domains = [\"quotes.toscrape.com\"]\n",
    "    start_urls = [\"https://quotes.toscrape.com/\"]\n",
    "    rules = [Rule(LinkExtractor(allow= 'page/',deny='/tag'), callback='parse', follow=True)]\n",
    "\n",
    "\n",
    "    def parse(self, response):\n",
    "        for quote in response.css(\"div.quote span.text::text\"):\n",
    "            yield{\n",
    "                \"quote\": quote.get()\n",
    "            }"
   ]
  },
  {
   "cell_type": "code",
   "execution_count": null,
   "id": "c0a748f1-0892-45c3-a035-2dc2ee0c5a91",
   "metadata": {},
   "outputs": [],
   "source": [
    "import scrapy\n",
    "from scrapy.spiders import Rule, CrawlSpider\n",
    "from scrapy.linkextractors import LinkExtractor\n",
    "\n",
    "\n",
    "class QuoteSpider(scrapy.Spider):\n",
    "    name = \"Quote\"\n",
    "    allowed_domains = [\"quotes.toscrape.com\"]\n",
    "    start_urls = [\"https://quotes.toscrape.com/\"]\n",
    "    #rules = [Rule(LinkExtractor(allow= 'page/',deny='/tag'), callback='parse', follow=True)]\n",
    "\n",
    "\n",
    "    def parse(self, response):\n",
    "        for next_page in response.css(\"li.next a\"):\n",
    "            yield response.follow(next_page,self.parse)\n",
    "\n",
    "        for quote in response.css(\"div.quote span.text::text\"):\n",
    "            yield{\n",
    "                \"quote\": quote.get()\n",
    "            }"
   ]
  },
  {
   "cell_type": "code",
   "execution_count": null,
   "id": "2e16f6c4-0f21-4e32-b00f-e85e7a83318e",
   "metadata": {},
   "outputs": [],
   "source": [
    "Items, Pipelines and Processing"
   ]
  }
 ],
 "metadata": {
  "kernelspec": {
   "display_name": "Python 3 (ipykernel)",
   "language": "python",
   "name": "python3"
  },
  "language_info": {
   "codemirror_mode": {
    "name": "ipython",
    "version": 3
   },
   "file_extension": ".py",
   "mimetype": "text/x-python",
   "name": "python",
   "nbconvert_exporter": "python",
   "pygments_lexer": "ipython3",
   "version": "3.11.7"
  }
 },
 "nbformat": 4,
 "nbformat_minor": 5
}
