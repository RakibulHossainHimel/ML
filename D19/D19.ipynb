{
 "cells": [
  {
   "cell_type": "code",
   "execution_count": 1,
   "id": "1b15fc27-7055-4ad0-a639-fff325eb3f93",
   "metadata": {},
   "outputs": [],
   "source": [
    "import pandas as pd"
   ]
  },
  {
   "cell_type": "code",
   "execution_count": 2,
   "id": "b00f6896-d070-475f-b475-c5d6f2412ef6",
   "metadata": {},
   "outputs": [],
   "source": [
    "df = pd.read_csv('medicines.csv')"
   ]
  },
  {
   "cell_type": "code",
   "execution_count": 3,
   "id": "24c1f1c6-ba35-46b9-aec4-3d26df97780e",
   "metadata": {},
   "outputs": [
    {
     "data": {
      "text/plain": [
       "(23504, 6)"
      ]
     },
     "execution_count": 3,
     "metadata": {},
     "output_type": "execute_result"
    }
   ],
   "source": [
    "df.shape"
   ]
  },
  {
   "cell_type": "code",
   "execution_count": 4,
   "id": "a94b028e-c03f-49a8-ac4a-f29130db80a0",
   "metadata": {},
   "outputs": [
    {
     "data": {
      "text/html": [
       "<div>\n",
       "<style scoped>\n",
       "    .dataframe tbody tr th:only-of-type {\n",
       "        vertical-align: middle;\n",
       "    }\n",
       "\n",
       "    .dataframe tbody tr th {\n",
       "        vertical-align: top;\n",
       "    }\n",
       "\n",
       "    .dataframe thead th {\n",
       "        text-align: right;\n",
       "    }\n",
       "</style>\n",
       "<table border=\"1\" class=\"dataframe\">\n",
       "  <thead>\n",
       "    <tr style=\"text-align: right;\">\n",
       "      <th></th>\n",
       "      <th>Medicine Name</th>\n",
       "      <th>Type</th>\n",
       "      <th>Brand</th>\n",
       "      <th>Strength</th>\n",
       "      <th>Generic</th>\n",
       "      <th>Price</th>\n",
       "    </tr>\n",
       "  </thead>\n",
       "  <tbody>\n",
       "    <tr>\n",
       "      <th>21191</th>\n",
       "      <td>Betanol</td>\n",
       "      <td>Tablet</td>\n",
       "      <td>Synovia Pharma PLC.</td>\n",
       "      <td>100 mg</td>\n",
       "      <td>Atenolol</td>\n",
       "      <td>Unit Price : ৳ 1.37</td>\n",
       "    </tr>\n",
       "    <tr>\n",
       "      <th>15248</th>\n",
       "      <td>Proflam Lido</td>\n",
       "      <td>Injection</td>\n",
       "      <td>Novo Healthcare and Pharma Ltd.</td>\n",
       "      <td>(75 mg+20 mg)/2 ml</td>\n",
       "      <td>Diclofenac Sodium + Lidocaine Hydrochloride</td>\n",
       "      <td>2 ml ampoule : ৳ 15.05</td>\n",
       "    </tr>\n",
       "    <tr>\n",
       "      <th>2802</th>\n",
       "      <td>Arotril</td>\n",
       "      <td>Tablet</td>\n",
       "      <td>Aristopharma Ltd.</td>\n",
       "      <td>0.5 mg</td>\n",
       "      <td>Clonazepam</td>\n",
       "      <td>Unit Price : ৳ 7.00</td>\n",
       "    </tr>\n",
       "    <tr>\n",
       "      <th>10035</th>\n",
       "      <td>Prolimus</td>\n",
       "      <td>Ointment</td>\n",
       "      <td>Healthcare Pharmaceuticals Ltd.</td>\n",
       "      <td>0.03%</td>\n",
       "      <td>Tacrolimus Monohydrate (Topical)</td>\n",
       "      <td>30 gm tube : ৳ 450.00</td>\n",
       "    </tr>\n",
       "    <tr>\n",
       "      <th>3388</th>\n",
       "      <td>Lexnil</td>\n",
       "      <td>Tablet</td>\n",
       "      <td>Asiatic Laboratories Ltd.</td>\n",
       "      <td>3 mg</td>\n",
       "      <td>Bromazepam</td>\n",
       "      <td>Unit Price : ৳ 4.00</td>\n",
       "    </tr>\n",
       "    <tr>\n",
       "      <th>19453</th>\n",
       "      <td>Neocliz</td>\n",
       "      <td>Tablet</td>\n",
       "      <td>Silco Pharmaceutical Ltd.</td>\n",
       "      <td>25 mg+50 mg</td>\n",
       "      <td>Meclizine + Pyridoxine</td>\n",
       "      <td>Unit Price : ৳ 3.00</td>\n",
       "    </tr>\n",
       "    <tr>\n",
       "      <th>4807</th>\n",
       "      <td>Relye</td>\n",
       "      <td>Eye Drop</td>\n",
       "      <td>Biopharma Limited</td>\n",
       "      <td>0.09%</td>\n",
       "      <td>Bromfenac Sodium</td>\n",
       "      <td>5 ml drop : ৳ 110.00</td>\n",
       "    </tr>\n",
       "    <tr>\n",
       "      <th>14400</th>\n",
       "      <td>Eytob</td>\n",
       "      <td>Eye Drop</td>\n",
       "      <td>Navana Pharmaceuticals Ltd.</td>\n",
       "      <td>0.30%</td>\n",
       "      <td>Tobramycin (Ophthalmic)</td>\n",
       "      <td>5 ml drop : ৳ 95.00</td>\n",
       "    </tr>\n",
       "    <tr>\n",
       "      <th>19157</th>\n",
       "      <td>Vass</td>\n",
       "      <td>Tablet</td>\n",
       "      <td>SANDOZ (A Novartis Division)</td>\n",
       "      <td>10 mg</td>\n",
       "      <td>Atorvastatin Calcium</td>\n",
       "      <td>Unit Price : ৳ 12.10</td>\n",
       "    </tr>\n",
       "    <tr>\n",
       "      <th>18857</th>\n",
       "      <td>Cepime</td>\n",
       "      <td>Injection</td>\n",
       "      <td>Rephco Pharmaceuticals Ltd.</td>\n",
       "      <td>1 gm/vial</td>\n",
       "      <td>Cefepime Hydrochloride</td>\n",
       "      <td>1 gm vial : ৳ 550.00</td>\n",
       "    </tr>\n",
       "  </tbody>\n",
       "</table>\n",
       "</div>"
      ],
      "text/plain": [
       "      Medicine Name       Type                            Brand  \\\n",
       "21191       Betanol     Tablet              Synovia Pharma PLC.   \n",
       "15248  Proflam Lido  Injection  Novo Healthcare and Pharma Ltd.   \n",
       "2802        Arotril     Tablet                Aristopharma Ltd.   \n",
       "10035      Prolimus   Ointment  Healthcare Pharmaceuticals Ltd.   \n",
       "3388         Lexnil     Tablet        Asiatic Laboratories Ltd.   \n",
       "19453       Neocliz     Tablet        Silco Pharmaceutical Ltd.   \n",
       "4807          Relye   Eye Drop                Biopharma Limited   \n",
       "14400         Eytob   Eye Drop      Navana Pharmaceuticals Ltd.   \n",
       "19157          Vass     Tablet     SANDOZ (A Novartis Division)   \n",
       "18857        Cepime  Injection      Rephco Pharmaceuticals Ltd.   \n",
       "\n",
       "                 Strength                                      Generic  \\\n",
       "21191              100 mg                                     Atenolol   \n",
       "15248  (75 mg+20 mg)/2 ml  Diclofenac Sodium + Lidocaine Hydrochloride   \n",
       "2802               0.5 mg                                   Clonazepam   \n",
       "10035               0.03%             Tacrolimus Monohydrate (Topical)   \n",
       "3388                 3 mg                                   Bromazepam   \n",
       "19453         25 mg+50 mg                       Meclizine + Pyridoxine   \n",
       "4807                0.09%                             Bromfenac Sodium   \n",
       "14400               0.30%                      Tobramycin (Ophthalmic)   \n",
       "19157               10 mg                         Atorvastatin Calcium   \n",
       "18857           1 gm/vial                       Cefepime Hydrochloride   \n",
       "\n",
       "                        Price  \n",
       "21191     Unit Price : ৳ 1.37  \n",
       "15248  2 ml ampoule : ৳ 15.05  \n",
       "2802      Unit Price : ৳ 7.00  \n",
       "10035   30 gm tube : ৳ 450.00  \n",
       "3388      Unit Price : ৳ 4.00  \n",
       "19453     Unit Price : ৳ 3.00  \n",
       "4807     5 ml drop : ৳ 110.00  \n",
       "14400     5 ml drop : ৳ 95.00  \n",
       "19157    Unit Price : ৳ 12.10  \n",
       "18857    1 gm vial : ৳ 550.00  "
      ]
     },
     "execution_count": 4,
     "metadata": {},
     "output_type": "execute_result"
    }
   ],
   "source": [
    "df.sample(10)"
   ]
  },
  {
   "cell_type": "code",
   "execution_count": 5,
   "id": "fea2ecb1-3343-4e86-bfa6-9da9f6f916a3",
   "metadata": {},
   "outputs": [
    {
     "name": "stdout",
     "output_type": "stream",
     "text": [
      "<class 'pandas.core.frame.DataFrame'>\n",
      "RangeIndex: 23504 entries, 0 to 23503\n",
      "Data columns (total 6 columns):\n",
      " #   Column         Non-Null Count  Dtype \n",
      "---  ------         --------------  ----- \n",
      " 0   Medicine Name  23504 non-null  object\n",
      " 1   Type           23504 non-null  object\n",
      " 2   Brand          23504 non-null  object\n",
      " 3   Strength       22568 non-null  object\n",
      " 4   Generic        23504 non-null  object\n",
      " 5   Price          23504 non-null  object\n",
      "dtypes: object(6)\n",
      "memory usage: 1.1+ MB\n"
     ]
    }
   ],
   "source": [
    "df.info()"
   ]
  },
  {
   "cell_type": "code",
   "execution_count": 6,
   "id": "8556b779-ed76-41fc-a15d-dca55b0a13ae",
   "metadata": {},
   "outputs": [
    {
     "data": {
      "text/plain": [
       "Medicine Name      0\n",
       "Type               0\n",
       "Brand              0\n",
       "Strength         936\n",
       "Generic            0\n",
       "Price              0\n",
       "dtype: int64"
      ]
     },
     "execution_count": 6,
     "metadata": {},
     "output_type": "execute_result"
    }
   ],
   "source": [
    "df.isnull().sum()"
   ]
  },
  {
   "cell_type": "code",
   "execution_count": 7,
   "id": "cf5ecc3c-96d2-46c6-b696-b25476a13381",
   "metadata": {},
   "outputs": [
    {
     "data": {
      "text/html": [
       "<div>\n",
       "<style scoped>\n",
       "    .dataframe tbody tr th:only-of-type {\n",
       "        vertical-align: middle;\n",
       "    }\n",
       "\n",
       "    .dataframe tbody tr th {\n",
       "        vertical-align: top;\n",
       "    }\n",
       "\n",
       "    .dataframe thead th {\n",
       "        text-align: right;\n",
       "    }\n",
       "</style>\n",
       "<table border=\"1\" class=\"dataframe\">\n",
       "  <thead>\n",
       "    <tr style=\"text-align: right;\">\n",
       "      <th></th>\n",
       "      <th>Medicine Name</th>\n",
       "      <th>Type</th>\n",
       "      <th>Brand</th>\n",
       "      <th>Strength</th>\n",
       "      <th>Generic</th>\n",
       "      <th>Price</th>\n",
       "    </tr>\n",
       "  </thead>\n",
       "  <tbody>\n",
       "    <tr>\n",
       "      <th>count</th>\n",
       "      <td>23504</td>\n",
       "      <td>23504</td>\n",
       "      <td>23504</td>\n",
       "      <td>22568</td>\n",
       "      <td>23504</td>\n",
       "      <td>23504</td>\n",
       "    </tr>\n",
       "    <tr>\n",
       "      <th>unique</th>\n",
       "      <td>15326</td>\n",
       "      <td>77</td>\n",
       "      <td>210</td>\n",
       "      <td>1183</td>\n",
       "      <td>1841</td>\n",
       "      <td>4519</td>\n",
       "    </tr>\n",
       "    <tr>\n",
       "      <th>top</th>\n",
       "      <td>Etoricoxib</td>\n",
       "      <td>Tablet</td>\n",
       "      <td>Incepta Pharmaceuticals Ltd.</td>\n",
       "      <td>500 mg</td>\n",
       "      <td>Cefixime Trihydrate</td>\n",
       "      <td>Unit Price : ৳ 10.00</td>\n",
       "    </tr>\n",
       "    <tr>\n",
       "      <th>freq</th>\n",
       "      <td>10</td>\n",
       "      <td>11422</td>\n",
       "      <td>1438</td>\n",
       "      <td>1317</td>\n",
       "      <td>371</td>\n",
       "      <td>961</td>\n",
       "    </tr>\n",
       "  </tbody>\n",
       "</table>\n",
       "</div>"
      ],
      "text/plain": [
       "       Medicine Name    Type                         Brand Strength  \\\n",
       "count          23504   23504                         23504    22568   \n",
       "unique         15326      77                           210     1183   \n",
       "top       Etoricoxib  Tablet  Incepta Pharmaceuticals Ltd.   500 mg   \n",
       "freq              10   11422                          1438     1317   \n",
       "\n",
       "                    Generic                 Price  \n",
       "count                 23504                 23504  \n",
       "unique                 1841                  4519  \n",
       "top     Cefixime Trihydrate  Unit Price : ৳ 10.00  \n",
       "freq                    371                   961  "
      ]
     },
     "execution_count": 7,
     "metadata": {},
     "output_type": "execute_result"
    }
   ],
   "source": [
    "df.describe()\n"
   ]
  },
  {
   "cell_type": "code",
   "execution_count": 8,
   "id": "2ead5084-16bf-46bc-bd8a-36652a3a0cad",
   "metadata": {},
   "outputs": [
    {
     "data": {
      "text/plain": [
       "187"
      ]
     },
     "execution_count": 8,
     "metadata": {},
     "output_type": "execute_result"
    }
   ],
   "source": [
    "df.duplicated().sum()\n"
   ]
  },
  {
   "cell_type": "code",
   "execution_count": null,
   "id": "695fda31-49ac-4709-a1fc-6fe11c2c10de",
   "metadata": {},
   "outputs": [],
   "source": []
  }
 ],
 "metadata": {
  "kernelspec": {
   "display_name": "Python 3 (ipykernel)",
   "language": "python",
   "name": "python3"
  },
  "language_info": {
   "codemirror_mode": {
    "name": "ipython",
    "version": 3
   },
   "file_extension": ".py",
   "mimetype": "text/x-python",
   "name": "python",
   "nbconvert_exporter": "python",
   "pygments_lexer": "ipython3",
   "version": "3.11.7"
  }
 },
 "nbformat": 4,
 "nbformat_minor": 5
}
